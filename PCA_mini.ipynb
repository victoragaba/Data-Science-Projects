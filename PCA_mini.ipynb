{
 "cells": [
  {
   "cell_type": "markdown",
   "metadata": {},
   "source": [
    "## Principal Component Analysis"
   ]
  },
  {
   "cell_type": "code",
   "execution_count": 74,
   "metadata": {},
   "outputs": [],
   "source": [
    "import numpy as np\n",
    "import matplotlib.pyplot as plt\n",
    "import pandas as pd"
   ]
  },
  {
   "cell_type": "code",
   "execution_count": 75,
   "metadata": {},
   "outputs": [],
   "source": [
    "# read data from csv file\n",
    "cols = []\n",
    "rows = []\n",
    "with open('goblet.csv', 'r') as f:\n",
    "    cols = f.readline().strip().split(',')\n",
    "    for line in f:\n",
    "        rows.append(line.strip().split(',')[0])\n",
    "\n",
    "data = np.genfromtxt('goblet.csv', delimiter=',', skip_header=1)[:,1:]"
   ]
  },
  {
   "cell_type": "markdown",
   "metadata": {},
   "source": [
    "### 1. Correlation matrix"
   ]
  },
  {
   "cell_type": "code",
   "execution_count": 76,
   "metadata": {},
   "outputs": [
    {
     "name": "stdout",
     "output_type": "stream",
     "text": [
      "       Wo     Wg     Ht     Ws     Wn     Hs     Hg\n",
      "Wo  1.000  0.623  0.346  0.675  0.690  0.588  0.069\n",
      "Wg  0.623  1.000  0.839  0.829  0.581  0.797  0.693\n",
      "Ht  0.346  0.839  1.000  0.843  0.251  0.858  0.902\n",
      "Ws  0.675  0.829  0.843  1.000  0.487  0.910  0.604\n",
      "Wn  0.690  0.581  0.251  0.487  1.000  0.289  0.165\n",
      "Hs  0.588  0.797  0.858  0.910  0.289  1.000  0.552\n",
      "Hg  0.069  0.693  0.902  0.604  0.165  0.552  1.000\n"
     ]
    }
   ],
   "source": [
    "corr = np.corrcoef(data.T)\n",
    "corr_disp = pd.DataFrame(np.round(corr,3), columns=cols[1:], index=cols[1:])\n",
    "print(corr_disp)\n"
   ]
  },
  {
   "cell_type": "markdown",
   "metadata": {},
   "source": [
    "**Patterns observed:**\n",
    "* Every variable is positively correlated with every other variable, presumably because all individual dimensions would increase together if the goblet got bigger.\n",
    "* This means the variables are highly multicollinear."
   ]
  },
  {
   "cell_type": "markdown",
   "metadata": {},
   "source": [
    "### 2. PCA with covariance"
   ]
  },
  {
   "cell_type": "markdown",
   "metadata": {},
   "source": [
    "#### Part a)"
   ]
  },
  {
   "cell_type": "code",
   "execution_count": 77,
   "metadata": {},
   "outputs": [
    {
     "name": "stdout",
     "output_type": "stream",
     "text": [
      "       Wo      Wg      Ws     Wn      Hs      Hg\n",
      "Wo  9.043   8.130   8.408  4.478   5.548   0.782\n",
      "Wg  8.130  18.807  14.892  5.435  10.853  11.262\n",
      "Ws  8.408  14.892  17.167  4.358  11.842   9.383\n",
      "Wn  4.478   5.435   4.358  4.657   1.955   1.338\n",
      "Hs  5.548  10.853  11.842  1.955   9.860   6.502\n",
      "Hg  0.782  11.262   9.383  1.338   6.502  14.060\n",
      "\n",
      "Total variance is approx. 73.59\n"
     ]
    }
   ],
   "source": [
    "without_Ht = np.concatenate((data[:,:2], data[:,3:]), axis=1)\n",
    "cov = np.cov(without_Ht.T)\n",
    "new_cols = cols[1:3] + cols[4:]\n",
    "cov_disp = pd.DataFrame(np.round(cov,3), columns=new_cols, index=new_cols)\n",
    "print(cov_disp)\n",
    "total_var = np.sum(np.diag(cov))\n",
    "print(f'\\nTotal variance is approx. {total_var:.2f}')"
   ]
  },
  {
   "cell_type": "markdown",
   "metadata": {},
   "source": [
    "#### Part b)"
   ]
  },
  {
   "cell_type": "code",
   "execution_count": 78,
   "metadata": {},
   "outputs": [
    {
     "name": "stdout",
     "output_type": "stream",
     "text": [
      "[53.28016201 11.68381021  4.9342706   2.04751093  1.149141    0.49843858]\n"
     ]
    }
   ],
   "source": [
    "eig_vals, eig_vecs = np.linalg.eig(cov)\n",
    "print(eig_vals)"
   ]
  },
  {
   "cell_type": "markdown",
   "metadata": {},
   "source": [
    "The first PC has a variance of 53.28"
   ]
  },
  {
   "cell_type": "markdown",
   "metadata": {},
   "source": [
    "#### Part c)"
   ]
  },
  {
   "cell_type": "markdown",
   "metadata": {},
   "source": [
    "The second PC has a variance of 11.68"
   ]
  },
  {
   "cell_type": "markdown",
   "metadata": {},
   "source": [
    "#### Part d)"
   ]
  },
  {
   "cell_type": "code",
   "execution_count": 79,
   "metadata": {},
   "outputs": [
    {
     "name": "stdout",
     "output_type": "stream",
     "text": [
      "Cumulative proportions:\n",
      " [0.72398082 0.88274262 0.94979042 0.97761238 0.99322712 1.        ]\n"
     ]
    }
   ],
   "source": [
    "proportions = eig_vals / total_var\n",
    "cum_proportions = np.cumsum(proportions)\n",
    "print(f'Cumulative proportions:\\n {cum_proportions}')"
   ]
  },
  {
   "cell_type": "markdown",
   "metadata": {},
   "source": [
    "The first 2 PCs explain about 88.3% of total variance"
   ]
  },
  {
   "cell_type": "markdown",
   "metadata": {},
   "source": [
    "#### Part e)"
   ]
  },
  {
   "cell_type": "code",
   "execution_count": 80,
   "metadata": {},
   "outputs": [
    {
     "data": {
      "image/png": "[encoded data removed]",
      "text/plain": [
       "<Figure size 640x480 with 1 Axes>"
      ]
     },
     "metadata": {},
     "output_type": "display_data"
    }
   ],
   "source": [
    "PC_scores = without_Ht @ eig_vecs\n",
    "\n",
    "# plot PC scores\n",
    "plt.figure()\n",
    "plt.scatter(PC_scores[:,0], PC_scores[:,1], s=10)\n",
    "for i in range(len(rows)):\n",
    "    plt.text(PC_scores[i,0], PC_scores[i,1], rows[i])\n",
    "plt.xlabel('PC1')\n",
    "plt.ylabel('PC2')\n",
    "plt.title('PC scores')\n",
    "plt.show()"
   ]
  },
  {
   "cell_type": "code",
   "execution_count": 114,
   "metadata": {},
   "outputs": [
    {
     "name": "stdout",
     "output_type": "stream",
     "text": [
      "      PC1    PC2\n",
      "Wo -0.278 -0.601\n",
      "Wg -0.566  0.033\n",
      "Ws -0.540 -0.107\n",
      "Wn -0.163 -0.295\n",
      "Hs -0.387 -0.036\n",
      "Hg -0.367  0.733\n"
     ]
    }
   ],
   "source": [
    "# eigenvectors of covariance matrix\n",
    "cov_disp = pd.DataFrame(np.round(eig_vecs[:,:2],3), columns=['PC1', 'PC2'],\n",
    "                         index=cols[1:3]+cols[4:])\n",
    "print(cov_disp)"
   ]
  },
  {
   "cell_type": "markdown",
   "metadata": {},
   "source": [
    "#### Part f)\n",
    "\n",
    "The first eigenvector is proportional to the mean, which means it distinguishes goblets by overall size.\n",
    "\n",
    "#### Part g)\n",
    "\n",
    "The second eigenvector differentiates between maximum (width + height) and overall size, which means it helps to classify tall and narrow vs short and wide globes."
   ]
  },
  {
   "cell_type": "markdown",
   "metadata": {},
   "source": [
    "### 3. PCA with correlation"
   ]
  },
  {
   "cell_type": "code",
   "execution_count": 113,
   "metadata": {},
   "outputs": [
    {
     "name": "stdout",
     "output_type": "stream",
     "text": [
      "Individual variances:\n",
      " [3.945 1.179 0.571 0.042 0.12  0.144]\n",
      "Cumulative proportions:\n",
      " [0.657 0.854 0.949 0.956 0.976 1.   ]\n"
     ]
    }
   ],
   "source": [
    "corr = np.corrcoef(without_Ht.T)\n",
    "eig_vals2, eig_vecs2 = np.linalg.eig(corr)\n",
    "total_var2 = np.sum(eig_vals2)\n",
    "print(f'Individual variances:\\n {np.round(eig_vals2, 3)}')\n",
    "\n",
    "proportions2 = eig_vals2 / total_var2\n",
    "cum_proportions2 = np.cumsum(proportions2)\n",
    "print(f'Cumulative proportions:\\n {np.round(cum_proportions2, 3)}')"
   ]
  },
  {
   "cell_type": "markdown",
   "metadata": {},
   "source": [
    "#### Part a)\n",
    "\n",
    "Total variance is 6\n",
    "\n",
    "#### Part b)\n",
    "\n",
    "1st PC variance: 3.945\n",
    "\n",
    "#### Part c)\n",
    "\n",
    "2nd PC variance: 1.179\n",
    "\n",
    "#### Part d)\n",
    "\n",
    "The first 2 components explain about 85.4% of the total variance."
   ]
  },
  {
   "cell_type": "markdown",
   "metadata": {},
   "source": [
    "#### Part e)"
   ]
  },
  {
   "cell_type": "code",
   "execution_count": 116,
   "metadata": {},
   "outputs": [
    {
     "data": {
      "image/png": "[encoded data removed]",
      "text/plain": [
       "<Figure size 640x480 with 1 Axes>"
      ]
     },
     "metadata": {},
     "output_type": "display_data"
    }
   ],
   "source": [
    "data_std = (without_Ht - np.mean(without_Ht, axis=0)) / np.std(without_Ht, axis=0, ddof=1)\n",
    "PC_std = data_std @ eig_vecs2\n",
    "\n",
    "# plot PC scores\n",
    "plt.figure()\n",
    "plt.scatter(PC_std[:,0], PC_std[:,1], s=10)\n",
    "for i in range(len(rows)):\n",
    "    plt.text(PC_std[i,0], PC_std[i,1], rows[i])\n",
    "plt.xlabel('PC1')\n",
    "plt.ylabel('PC2')\n",
    "plt.title('Standardized PC scores')\n",
    "plt.show()"
   ]
  },
  {
   "cell_type": "code",
   "execution_count": 117,
   "metadata": {},
   "outputs": [
    {
     "name": "stdout",
     "output_type": "stream",
     "text": [
      "      PC1    PC2\n",
      "Wo  0.381  0.520\n",
      "Wg  0.474 -0.099\n",
      "Ws  0.477 -0.092\n",
      "Wn  0.323  0.547\n",
      "Hs  0.443 -0.202\n",
      "Hg  0.319 -0.610\n"
     ]
    }
   ],
   "source": [
    "# eigenvectors of covariance matrix\n",
    "corr_disp = pd.DataFrame(np.round(eig_vecs2[:,:2],3), columns=['PC1', 'PC2'],\n",
    "                         index=cols[1:3]+cols[4:])\n",
    "print(corr_disp)"
   ]
  },
  {
   "cell_type": "markdown",
   "metadata": {},
   "source": [
    "#### Part f)\n",
    "\n",
    "The first eigenvector is proportional to the mean, which means it distinguishes goblets by overall size. For instance, goblets W and X are significantly smaller than the rest.\n",
    "\n",
    "#### Part g)\n",
    "\n",
    "The second eigenvector differentiates between maximum (width + height) and overall size, which means it helps to classify tall and relatively narrow (e.g. Z) vs short and relatively wide (e.g. D) globes."
   ]
  },
  {
   "cell_type": "markdown",
   "metadata": {},
   "source": [
    "### Qn 4\n",
    "\n",
    "I would recommed the 2nd solution because variables are compared on a similar scale."
   ]
  },
  {
   "cell_type": "markdown",
   "metadata": {},
   "source": [
    "### Qn 5\n",
    "\n",
    "The analysis will lead to similar conclusions if all 7 are included because of multicollinearity of globe dimensions which is already addressed by PCA on 6 variables."
   ]
  }
 ],
 "metadata": {
  "kernelspec": {
   "display_name": "base",
   "language": "python",
   "name": "python3"
  },
  "language_info": {
   "codemirror_mode": {
    "name": "ipython",
    "version": 3
   },
   "file_extension": ".py",
   "mimetype": "text/x-python",
   "name": "python",
   "nbconvert_exporter": "python",
   "pygments_lexer": "ipython3",
   "version": "3.10.13"
  }
 },
 "nbformat": 4,
 "nbformat_minor": 2
}
